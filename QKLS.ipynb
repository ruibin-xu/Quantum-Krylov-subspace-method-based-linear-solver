{
 "cells": [
  {
   "cell_type": "code",
   "execution_count": null,
   "metadata": {},
   "outputs": [],
   "source": [
    "import pennylane as qml\n",
    "import numpy as np\n",
    "from scipy.linalg import expm,sinm,cosm\n",
    "from numpy.linalg import solve\n",
    "%run ISING_INSPIRED_H.ipynb"
   ]
  },
  {
   "cell_type": "code",
   "execution_count": 6,
   "metadata": {},
   "outputs": [],
   "source": [
    "def condition_number(matrix):\n",
    "    # Compute eigenvalues and eigenvectors of the matrix\n",
    "    eigv, eigc = np.linalg.eig(matrix)\n",
    "    \n",
    "    # Calculate the absolute values of the eigenvalues\n",
    "    abs_eigv = [abs(i) for i in eigv]\n",
    "    \n",
    "    # Compute the condition number as the ratio of the largest to the smallest eigenvalue\n",
    "    cond_number = max(abs_eigv) / min(abs_eigv)\n",
    "    \n",
    "    # Return the condition number and the smallest eigenvalue in magnitude\n",
    "    return cond_number, min(abs_eigv)"
   ]
  },
  {
   "cell_type": "markdown",
   "metadata": {},
   "source": [
    "### Generate the a list of quantum krylov-subspace basis."
   ]
  },
  {
   "cell_type": "code",
   "execution_count": 7,
   "metadata": {},
   "outputs": [],
   "source": [
    "def Quantum_Krylov_subsapce(dimension,matrix,vector,time_step):\n",
    "    Qkrylov_subspace=[]\n",
    "    for i in range(dimension):\n",
    "        Qkrylov_subspace.append(np.dot(expm(-1j*i*time_step*matrix),vector))\n",
    "    return(Qkrylov_subspace)"
   ]
  },
  {
   "cell_type": "markdown",
   "metadata": {},
   "source": [
    "### Construct the matrix $\\mathcal{F}(\\mathcal{H})$ and the vector $\\mathcal{s}$ based on Eq. (7) in the text."
   ]
  },
  {
   "cell_type": "code",
   "execution_count": 8,
   "metadata": {},
   "outputs": [],
   "source": [
    "def matrix_F(QK_space,matrix):\n",
    "    matrix_F=[]\n",
    "    for i in range(len(QK_space)):\n",
    "        for j in range(len(QK_space)):\n",
    "            matrix_F.append(np.inner(QK_space[i].T.conjugate(),np.dot(matrix,QK_space[j])))\n",
    "    return np.array(matrix_F).reshape(len(QK_space),len(QK_space))\n",
    "def matrix_S(QK_space):\n",
    "    matrix_S=[]\n",
    "    for i in range(len(QK_space)):\n",
    "        matrix_S.append(np.inner(QK_space[i].T.conjugate(),QK_space[0]))\n",
    "    return np.array(matrix_S)"
   ]
  },
  {
   "cell_type": "markdown",
   "metadata": {},
   "source": [
    "### Calculate the approximate solution"
   ]
  },
  {
   "cell_type": "code",
   "execution_count": 9,
   "metadata": {},
   "outputs": [],
   "source": [
    "def QK_solution(dimension,matrix,vector,time_step):\n",
    "    quantum_krylov_subspace=Quantum_Krylov_subsapce(dimension,matrix,vector,time_step)\n",
    "    M_h=matrix_F(quantum_krylov_subspace,matrix)\n",
    "    M_s=matrix_S(quantum_krylov_subspace)\n",
    "    solver1=solve(M_h,M_s.T)\n",
    "    solver2=np.zeros(len(vector))[1]\n",
    "    for index,element in enumerate(quantum_krylov_subspace):\n",
    "        solver2=solver2 + solver1[index]*element\n",
    "    return (np.dot(matrix,solver2))"
   ]
  },
  {
   "cell_type": "markdown",
   "metadata": {},
   "source": [
    "### An example from the paper"
   ]
  },
  {
   "cell_type": "code",
   "execution_count": 11,
   "metadata": {},
   "outputs": [],
   "source": [
    "n=10\n",
    "H=Ising_inspired_Hamiltonian(n, 0.1,1,10*(2.02487285094645)*(5.262813667752477))\n",
    "U=qml.matrix(H)\n",
    "b=np.ones((2**n,2**n)[0])*(1/np.sqrt(2**n))\n",
    "Error=[]\n",
    "for i in range(2,33):\n",
    "    solution=QK_solution(i,U,b,0.001)\n",
    "    Error.append(abs(1-np.inner(solution,b)))"
   ]
  },
  {
   "cell_type": "markdown",
   "metadata": {},
   "source": [
    "### Further discussion on the impact of the accuracy of Eq. (7) on the final solution. This part of the numerical simulation corresponds to Fig. 4 in the paper. \n",
    "Here, we utilize the truncation values provided by NumPy to construct the matrix $ \\mathcal{F}(\\mathcal{H})$ and the vector $ \\mathbf{s} $ respectively, thereby investigating the impact of the accuracy of Equation (7) on the final results."
   ]
  },
  {
   "cell_type": "code",
   "execution_count": 12,
   "metadata": {},
   "outputs": [],
   "source": [
    "def matrix_F_truncated(QK_space,matrix,truncated_precision):\n",
    "    matrix_H=[]\n",
    "    for i in range(len(QK_space)):\n",
    "        for j in range(len(QK_space)):\n",
    "            matrix_H.append(np.inner(QK_space[i].T.conjugate(),np.dot(matrix,QK_space[j])))\n",
    "    return np.round(np.array(matrix_H).reshape(len(QK_space),len(QK_space)),truncated_precision)\n",
    "def matrix_S_truncated(QK_space,truncated_precision):\n",
    "    matrix_S=[]\n",
    "    for i in range(len(QK_space)):\n",
    "        matrix_S.append(np.inner(QK_space[i].T.conjugate(),QK_space[0]))\n",
    "    return np.round(np.array(matrix_S),truncated_precision)\n",
    "def QK_solution_truncated(dimension,matrix,vector,time_step,truncated_precision):\n",
    "    quantum_krylov_subspace=Quantum_Krylov_subsapce(dimension,matrix,vector,time_step)\n",
    "    M_h=matrix_F_truncated(quantum_krylov_subspace,matrix,truncated_precision)\n",
    "    M_s=matrix_S_truncated(quantum_krylov_subspace,truncated_precision)\n",
    "    solver1=solve(M_h,M_s.T)\n",
    "    solver2=np.zeros(len(vector))[1]\n",
    "    for index,element in enumerate(quantum_krylov_subspace):\n",
    "        solver2=solver2 + solver1[index]*element\n",
    "    return (np.dot(matrix,solver2))"
   ]
  },
  {
   "cell_type": "code",
   "execution_count": 13,
   "metadata": {},
   "outputs": [],
   "source": [
    "Truncated_Error=[]\n",
    "for i in [7,8,9,10,11,12,13,14,15]:\n",
    "    precision=i\n",
    "    solution=QK_solution_truncated(10,U,b,0.001,precision)\n",
    "    Truncated_Error.append(abs(1-np.inner(solution,b)))"
   ]
  },
  {
   "cell_type": "code",
   "execution_count": null,
   "metadata": {},
   "outputs": [],
   "source": []
  }
 ],
 "metadata": {
  "kernelspec": {
   "display_name": "pennylane_env1",
   "language": "python",
   "name": "python3"
  },
  "language_info": {
   "codemirror_mode": {
    "name": "ipython",
    "version": 3
   },
   "file_extension": ".py",
   "mimetype": "text/x-python",
   "name": "python",
   "nbconvert_exporter": "python",
   "pygments_lexer": "ipython3",
   "version": "3.9.20"
  }
 },
 "nbformat": 4,
 "nbformat_minor": 2
}
