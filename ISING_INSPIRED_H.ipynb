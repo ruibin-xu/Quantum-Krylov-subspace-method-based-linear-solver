{
 "cells": [
  {
   "cell_type": "code",
   "execution_count": 1,
   "metadata": {},
   "outputs": [],
   "source": [
    "import numpy as np\n",
    "from scipy.linalg import expm, sinm, cosm\n",
    "import pennylane as qml\n",
    "from pennylane.templates import ApproxTimeEvolution\n",
    "from numpy.linalg import solve"
   ]
  },
  {
   "cell_type": "markdown",
   "metadata": {},
   "source": [
    "# Generate an n-qubit Hermitian matrix with the form:  \n",
    "$\\mathcal{H} = \\frac{1}{\\zeta} \\left( \\sum_{j=1}^{n} X_{j} + J \\sum_{j=1}^{n-1} Z_{j} Z_{j+1} + \\eta \\mathcal{I} \\right)$."
   ]
  },
  {
   "cell_type": "code",
   "execution_count": 2,
   "metadata": {},
   "outputs": [],
   "source": [
    "def Ising_inspired_Hamiltonian(n_qubits,J,eta,zeta):\n",
    "    h=[]\n",
    "    coe=[]\n",
    "    for i in range (n_qubits):\n",
    "        h.append(qml.PauliX(i))\n",
    "        coe.append(1/zeta)\n",
    "    for i in range (n_qubits-1):\n",
    "        h.append(qml.PauliZ(i)@qml.PauliZ(i+1))\n",
    "        coe.append(J/zeta)\n",
    "    I=qml.Identity(0)\n",
    "    for i in range(1,n_qubits):\n",
    "        I=I@qml.Identity(i)\n",
    "    h.append(I)\n",
    "    coe.append(eta/zeta)\n",
    "#     return (coe,h)\n",
    "    return qml.Hamiltonian(coe,h)"
   ]
  },
  {
   "cell_type": "code",
   "execution_count": null,
   "metadata": {},
   "outputs": [],
   "source": []
  }
 ],
 "metadata": {
  "kernelspec": {
   "display_name": "pennylane_env1",
   "language": "python",
   "name": "python3"
  },
  "language_info": {
   "codemirror_mode": {
    "name": "ipython",
    "version": 3
   },
   "file_extension": ".py",
   "mimetype": "text/x-python",
   "name": "python",
   "nbconvert_exporter": "python",
   "pygments_lexer": "ipython3",
   "version": "3.9.20"
  }
 },
 "nbformat": 4,
 "nbformat_minor": 2
}
