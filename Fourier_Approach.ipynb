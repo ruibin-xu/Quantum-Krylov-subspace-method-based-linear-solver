{
 "cells": [
  {
   "cell_type": "code",
   "execution_count": 1,
   "metadata": {},
   "outputs": [],
   "source": [
    "import pennylane as qml\n",
    "import numpy as np\n",
    "from scipy.linalg import expm,sinm,cosm\n",
    "from numpy.linalg import solve"
   ]
  },
  {
   "cell_type": "markdown",
   "metadata": {},
   "source": [
    "# Condition Number"
   ]
  },
  {
   "cell_type": "code",
   "execution_count": 2,
   "metadata": {},
   "outputs": [],
   "source": [
    "def condition_number(matrix):\n",
    "    eigv,eigc=np.linalg.eig(matrix)\n",
    "    eigv\n",
    "    abs_eigv=[]\n",
    "    for i in eigv:\n",
    "        if abs(i)!=0:\n",
    "            abs_eigv.append(abs(i))\n",
    "        else:\n",
    "            continue\n",
    "    return (max(abs_eigv)/min(abs_eigv),min(abs_eigv))"
   ]
  },
  {
   "cell_type": "markdown",
   "metadata": {},
   "source": [
    "# Function $log_2(\\bullet)$ "
   ]
  },
  {
   "cell_type": "code",
   "execution_count": 3,
   "metadata": {},
   "outputs": [],
   "source": [
    "def lg(x,y):\n",
    "    return np.log(y)/np.log(x)"
   ]
  },
  {
   "cell_type": "markdown",
   "metadata": {},
   "source": [
    "### Lemma 11. Let the function $h(x)$ be defined as\n",
    "\n",
    "$$\n",
    "h(x):=\\frac{i}{\\sqrt{2\\pi}}\\sum_{j=0}^{J-1}\\Delta_{y}\\sum_{k=-K}^{K}\\Delta_{z}\\,z_{k}e^{-z_{k}^{2}/2}e^{-i x y_{j}z_{k}}, \n",
    "$$\n",
    "\n",
    "where $y_{j}:=j\\Delta y$  $z_{k}:=k\\Delta z.$ for some fixed $J~=~\\Theta(\\textstyle{\\frac{\\kappa}{\\epsilon}}\\log(\\kappa/\\epsilon))$ , $K\\;=\\;{\\Theta}(\\kappa\\log(\\kappa/\\epsilon))$  ,$\\Delta_{\\mathrm{y}}=$  $\\Theta(\\epsilon/\\sqrt{\\log\\left(\\kappa/\\epsilon\\right)})$ , and $\\Delta_{z}=\\Theta((\\kappa\\sqrt{\\log(\\kappa/\\epsilon)})^{-1})$. Then $h(x)$ is $\\epsilon$ -close to $1/x$ on the domain $D_{k}$.\n",
    "\n",
    "For a given matrix $U$, we could derive the parameters: $\\Delta y$,$\\Delta z$,$J$ and $K$."
   ]
  },
  {
   "cell_type": "code",
   "execution_count": 4,
   "metadata": {},
   "outputs": [],
   "source": [
    "%run ISING_INSPIRED_H.ipynb\n",
    "def parameter(matrix,epsilon):\n",
    "    Condition_number=np.linalg.cond(matrix)\n",
    "    x=Condition_number/epsilon\n",
    "    Delta_y=epsilon/np.sqrt(lg(2,x))\n",
    "    Delta_z=1/(Condition_number*np.sqrt(lg(2,x)))\n",
    "    J_=int((x*lg(2,x))//1+1)\n",
    "    K_=int((Condition_number*lg(2,x))//1+1)\n",
    "    return (Delta_y,Delta_z,J_,K_)"
   ]
  },
  {
   "cell_type": "markdown",
   "metadata": {},
   "source": [
    "# The inverse of matrix"
   ]
  },
  {
   "cell_type": "code",
   "execution_count": 5,
   "metadata": {},
   "outputs": [],
   "source": [
    "def matrix_inverse(U,delta_y,delta_z,J,K):\n",
    "    inverse=0\n",
    "    for j in range(J):\n",
    "        yj=j*delta_y\n",
    "        for k in range (K+1):\n",
    "            zk=k*delta_z\n",
    "            if k ==0:\n",
    "                inverse=inverse+delta_y*delta_z*zk*np.exp(-(zk**2)/2)*expm(-1j*U*yj*zk)\n",
    "            else:\n",
    "                inverse=inverse-1*delta_y*delta_z*zk*np.exp(-zk**2/2)*expm(1j*U*yj*zk)\n",
    "                inverse=inverse+delta_y*delta_z*zk*np.exp(-zk**2/2)*expm(-1j*U*yj*zk)\n",
    "    return (inverse*(1j/np.sqrt(2*np.pi)))"
   ]
  },
  {
   "cell_type": "markdown",
   "metadata": {},
   "source": [
    "# The error calculate"
   ]
  },
  {
   "cell_type": "code",
   "execution_count": 6,
   "metadata": {},
   "outputs": [],
   "source": [
    "def error(U,delta_y,delta_z,J,K,b):\n",
    "    m=matrix_inverse(U,delta_y,delta_z,J,K)\n",
    "    x=np.dot(m,b)\n",
    "    b_=np.dot(U,x)\n",
    "    b1=b_/(np.linalg.norm(b_))\n",
    "    return(abs(1-np.inner(b1,b)))"
   ]
  },
  {
   "cell_type": "markdown",
   "metadata": {},
   "source": [
    "# An Example in the Paper\n",
    "\n",
    "Given a 10-qubit Hermitian matrix $\\mathcal{H}=\\frac{1}{\\zeta}\\left( \\sum_{j=1}^{10} X_{j}+J \\sum_{j=1}^{9} Z_{j} Z_{j+1}+\\eta\\mathcal{I}\\right)$, where $J=0.1$, $\\eta=1.37$, and $\\zeta=110.6982637623554$. The purpose of selecting these parameters is to ensure that the condition number of the matrix satisfies the given value of 176.6.\n",
    "\n",
    "The state vector is given by $\\ket{b}=H^{\\otimes 10}\\ket{0}$.\n",
    "\n",
    "The error tolerance is set to $\\epsilon=0.001$.\n",
    "\n",
    "While it is theoretically possible to solve this strictly through the Fourier Approach, it is evident that substituting the given parameters into the calculations would require an impractically large number of time-evolution unitary operators, making it computationally infeasible with our current resources. As an alternative, we have chosen to simulate this scenario by setting different parameters:\n",
    "\n",
    "- **Case 1:** $J=2K$ and $J=10K$, where $K=1, 2, 3, 4, 5, 6, 7, 8$. The results are: [0.0009433834750935954, 0.000943383474822701, 0.0009433834736484181, 0.0009433834705396826, 0.0009433834640969474, 0.0009433834525892637, 0.0009433834339735991]\n",
    "\n",
    "- **Case 2:** $J=2K$ and $J=10K$, where $K=1, 2, 3, 4, 5, 6, 7, 8$. The results are: [0.0009433834744784209, 0.0009433834661043417, 0.0009433834328116397, 0.0009433833478552645, 0.0009433831753996591, 0.000943382871206655, 0.0009433823835013344]"
   ]
  },
  {
   "cell_type": "code",
   "execution_count": null,
   "metadata": {},
   "outputs": [],
   "source": [
    "n=10\n",
    "H=Ising_inspired_Hamiltonian(n,   0.1,1.37,10*(11.06982637623554)\n",
    ")\n",
    "U=qml.matrix(H)\n",
    "b=np.ones((2**10,2**10))[0]/(np.sqrt(2**10))\n",
    "epsilons=0.001-"
   ]
  },
  {
   "cell_type": "code",
   "execution_count": 8,
   "metadata": {},
   "outputs": [],
   "source": [
    "e=[]\n",
    "for i in range (1,8):\n",
    "    e.append(error(U,0.001,0.1,2*i,i,b))"
   ]
  },
  {
   "cell_type": "code",
   "execution_count": 9,
   "metadata": {},
   "outputs": [
    {
     "data": {
      "text/plain": [
       "[0.0009433834750935954,\n",
       " 0.000943383474822701,\n",
       " 0.0009433834736484181,\n",
       " 0.0009433834705396826,\n",
       " 0.0009433834640969474,\n",
       " 0.0009433834525892637,\n",
       " 0.0009433834339735991]"
      ]
     },
     "execution_count": 9,
     "metadata": {},
     "output_type": "execute_result"
    }
   ],
   "source": [
    "e"
   ]
  },
  {
   "cell_type": "code",
   "execution_count": 10,
   "metadata": {},
   "outputs": [],
   "source": [
    "e=[]\n",
    "for i in range (1,8):\n",
    "    e.append(error(U,0.001,0.1,10*i,i,b))"
   ]
  },
  {
   "cell_type": "code",
   "execution_count": 11,
   "metadata": {},
   "outputs": [
    {
     "data": {
      "text/plain": [
       "[0.0009433834744784209,\n",
       " 0.0009433834661043417,\n",
       " 0.0009433834328116397,\n",
       " 0.0009433833478552645,\n",
       " 0.0009433831753996591,\n",
       " 0.000943382871206655,\n",
       " 0.0009433823835013344]"
      ]
     },
     "execution_count": 11,
     "metadata": {},
     "output_type": "execute_result"
    }
   ],
   "source": [
    "e"
   ]
  },
  {
   "cell_type": "code",
   "execution_count": null,
   "metadata": {},
   "outputs": [],
   "source": []
  }
 ],
 "metadata": {
  "kernelspec": {
   "display_name": "pennylane_env1",
   "language": "python",
   "name": "python3"
  },
  "language_info": {
   "codemirror_mode": {
    "name": "ipython",
    "version": 3
   },
   "file_extension": ".py",
   "mimetype": "text/x-python",
   "name": "python",
   "nbconvert_exporter": "python",
   "pygments_lexer": "ipython3",
   "version": "3.9.20"
  }
 },
 "nbformat": 4,
 "nbformat_minor": 2
}
