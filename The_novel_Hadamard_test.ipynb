{
 "cells": [
  {
   "cell_type": "code",
   "execution_count": 1,
   "metadata": {},
   "outputs": [],
   "source": [
    "import numpy as np\n",
    "from scipy.linalg import expm, sinm, cosm\n",
    "import pennylane as qml\n",
    "from pennylane.templates import ApproxTimeEvolution\n",
    "from numpy.linalg import solve"
   ]
  },
  {
   "cell_type": "markdown",
   "metadata": {},
   "source": [
    "Here we provide the code related to Fig. 5 in the paper."
   ]
  },
  {
   "cell_type": "markdown",
   "metadata": {},
   "source": [
    "### Generate time evolution operator"
   ]
  },
  {
   "cell_type": "code",
   "execution_count": null,
   "metadata": {},
   "outputs": [],
   "source": [
    "def Time_evolution_part(H,k,l,time,H_t):  \n",
    "    if k>=l:\n",
    "        time_evolution=qml.TrotterProduct(H,H_t+time*(k-l),5)\n",
    "    else:\n",
    "        time_evolution=qml.adjoint(qml.TrotterProduct(H,H_t+time*(k-l),5))\n",
    "    return (time_evolution)"
   ]
  },
  {
   "cell_type": "markdown",
   "metadata": {},
   "source": [
    "### Calculation of Real/Imaginary Parts in the novel Hadamard Test and the Approximate Inner Product function"
   ]
  },
  {
   "cell_type": "code",
   "execution_count": null,
   "metadata": {},
   "outputs": [],
   "source": [
    "dev_re= qml.device('default.qubit', wires=11)\n",
    "@qml.qnode(dev_re)\n",
    "def hadamard_test_RE(H,k,l,time_step,Ht):\n",
    "    for i in range (11):\n",
    "        qml.Hadamard(i)\n",
    "    qml.ControlledQubitUnitary(base=Time_evolution_part(H,k,l,time_step,Ht), control_wires=[10])\n",
    "    qml.Hadamard(10)\n",
    "    return (qml.expval(qml.PauliZ(10)))\n",
    "\n",
    "dev_im= qml.device('default.qubit', wires=11)\n",
    "@qml.qnode(dev_im)\n",
    "def hadamard_test_IM(U,k,l,time_step,H_t):\n",
    "    for i in range (11):\n",
    "        qml.Hadamard(i)\n",
    "    qml.PhaseShift(-np.pi/2,wires=10)\n",
    "    qml.ControlledQubitUnitary(Time_evolution_part(H,k,l,time_step,H_t), control_wires=[10])\n",
    "    qml.Hadamard(10)\n",
    "    return (qml.expval(qml.PauliZ(10)))\n",
    "def approximate_inner_product(k,l,H_t,time,H):\n",
    "    IM_pp=-hadamard_test_IM(H,k,l,time,0)\n",
    "    IM_pep=-hadamard_test_IM(H,k,l,time,H_t)\n",
    "    RE_pp=hadamard_test_RE(H,k,l,time,0)\n",
    "    RE_pep=hadamard_test_RE(H,k,l,time,H_t)\n",
    "    IM_php=(RE_pep-RE_pp)\n",
    "    RE_php=-IM_pep+IM_pp\n",
    "    return ((-RE_php+1j*IM_php)/(H_t))"
   ]
  },
  {
   "cell_type": "markdown",
   "metadata": {},
   "source": [
    "### Actual Inner Product Calculation"
   ]
  },
  {
   "cell_type": "code",
   "execution_count": 2,
   "metadata": {},
   "outputs": [],
   "source": [
    "def actual_inner_product(k,l,matrix,vector,time_step):\n",
    "    K=np.dot(expm(-1j*k*time_step*matrix),vector)\n",
    "    L=np.dot(expm(-1j*l*time_step*matrix),vector)\n",
    "    return(np.inner(L.T.conjugate(),np.dot(matrix,K)))"
   ]
  },
  {
   "cell_type": "markdown",
   "metadata": {},
   "source": [
    "### "
   ]
  },
  {
   "cell_type": "markdown",
   "metadata": {},
   "source": [
    "### 论文中的一个例子"
   ]
  },
  {
   "cell_type": "code",
   "execution_count": null,
   "metadata": {},
   "outputs": [],
   "source": [
    "%run ISING_INSPIRED_H.ipynb\n",
    "H=Ising_inspired_Hamiltonian(10, 0.1,1.37,110.6982637623554)\n",
    "U=qml.matrix(H)\n",
    "def condition_number(matrix):\n",
    "    eigv,eigc=np.linalg.eig(matrix)\n",
    "    eigv\n",
    "    abs_eigv=[]\n",
    "    for i in eigv:\n",
    "        abs_eigv.append(abs(i))\n",
    "    return (max(abs_eigv)/min(abs_eigv),min(abs_eigv))\n",
    "condition_number(U)"
   ]
  },
  {
   "cell_type": "code",
   "execution_count": null,
   "metadata": {},
   "outputs": [],
   "source": [
    "def fidelity(k,l,H_t,time,H):\n",
    "    b=np.ones((2**10,2**10))[0]/(np.sqrt(2**10))\n",
    "    return(abs(approximate_inner_product(k,l,H_t,time,H)-actual_inner_product(k,l,qml.matrix(H),b,time)))"
   ]
  },
  {
   "cell_type": "code",
   "execution_count": null,
   "metadata": {},
   "outputs": [],
   "source": [
    "Discrete_Time_Sequence=np.linspace(0.001, 0.1, num=20)\n",
    "error=[]\n",
    "for i in Discrete_Time_Sequence:\n",
    "    error.append(fidelity(0,2,i,0.1,H))"
   ]
  }
 ],
 "metadata": {
  "kernelspec": {
   "display_name": "pennylane_env1",
   "language": "python",
   "name": "python3"
  },
  "language_info": {
   "codemirror_mode": {
    "name": "ipython",
    "version": 3
   },
   "file_extension": ".py",
   "mimetype": "text/x-python",
   "name": "python",
   "nbconvert_exporter": "python",
   "pygments_lexer": "ipython3",
   "version": "3.9.20"
  }
 },
 "nbformat": 4,
 "nbformat_minor": 2
}
